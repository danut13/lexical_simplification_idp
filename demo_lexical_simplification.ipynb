{
 "cells": [
  {
   "cell_type": "code",
   "execution_count": null,
   "id": "expired-rabbit",
   "metadata": {
    "tags": []
   },
   "outputs": [],
   "source": [
    "from feature_based_solution import execute_demo_feature"
   ]
  },
  {
   "cell_type": "code",
   "execution_count": null,
   "id": "associate-advantage",
   "metadata": {},
   "outputs": [],
   "source": [
    "from utils.textsimplifier import simplify_text"
   ]
  },
  {
   "cell_type": "code",
   "execution_count": null,
   "id": "linear-moment",
   "metadata": {},
   "outputs": [],
   "source": [
    "from utils.simplifier import Simplifier"
   ]
  },
  {
   "cell_type": "markdown",
   "id": "endangered-taste",
   "metadata": {},
   "source": [
    "# TRAINING THE COMPLEX WORD IDENTIFICATION MODEL"
   ]
  },
  {
   "cell_type": "code",
   "execution_count": null,
   "id": "fourth-depth",
   "metadata": {},
   "outputs": [],
   "source": [
    "model = execute_demo_feature(\"english\", \"baseline\")"
   ]
  },
  {
   "cell_type": "markdown",
   "id": "unlike-resort",
   "metadata": {},
   "source": [
    "# TRAINING THE SIMPLIFICATION MODEL"
   ]
  },
  {
   "cell_type": "code",
   "execution_count": null,
   "id": "metric-crime",
   "metadata": {},
   "outputs": [],
   "source": [
    "simplifier = Simplifier()"
   ]
  },
  {
   "cell_type": "code",
   "execution_count": null,
   "id": "excellent-corps",
   "metadata": {},
   "outputs": [],
   "source": [
    "text = \"\"\"\\\n",
    "insert text here\n",
    "\"\"\""
   ]
  },
  {
   "cell_type": "markdown",
   "id": "recent-qatar",
   "metadata": {},
   "source": [
    "## SIMPLIFY TEXT"
   ]
  },
  {
   "cell_type": "code",
   "execution_count": null,
   "id": "adaptive-greek",
   "metadata": {},
   "outputs": [],
   "source": [
    "simplify_text(text, model, simplifier)"
   ]
  }
 ],
 "metadata": {
  "kernelspec": {
   "display_name": "allwork",
   "language": "python",
   "name": "allwork"
  },
  "language_info": {
   "codemirror_mode": {
    "name": "ipython",
    "version": 3
   },
   "file_extension": ".py",
   "mimetype": "text/x-python",
   "name": "python",
   "nbconvert_exporter": "python",
   "pygments_lexer": "ipython3",
   "version": "3.7.0"
  }
 },
 "nbformat": 4,
 "nbformat_minor": 5
}